{
 "cells": [
  {
   "cell_type": "code",
   "execution_count": 33,
   "metadata": {},
   "outputs": [],
   "source": [
    "import tensorflow as tf\n",
    "import keras as keras\n",
    "import matplotlib.pyplot as plt\n",
    "import numpy as np\n",
    "import os\n",
    "import deepdish.io as io\n",
    "from sklearn.metrics import roc_curve, auc\n",
    "import random"
   ]
  },
  {
   "cell_type": "code",
   "execution_count": 3,
   "metadata": {},
   "outputs": [
    {
     "data": {
      "text/plain": [
       "'1.14.0'"
      ]
     },
     "execution_count": 3,
     "metadata": {},
     "output_type": "execute_result"
    }
   ],
   "source": [
    "tf.__version__"
   ]
  },
  {
   "cell_type": "code",
   "execution_count": 4,
   "metadata": {
    "collapsed": true
   },
   "outputs": [],
   "source": [
    "data_Train = io.load(os.path.join('DarkMachineTrain.h5'))\n",
    "data_Test = io.load(os.path.join('DarkMachineTest.h5'))"
   ]
  },
  {
   "cell_type": "code",
   "execution_count": 13,
   "metadata": {},
   "outputs": [],
   "source": [
    "X_train = data_Train['X']\n",
    "y_train = data_Train['y']\n",
    "X_test = data_Test['X']\n",
    "y_test = data_Test['y']\n",
    "X_train = keras.utils.normalize(X_train, axis=1)\n",
    "X_test = keras.utils.normalize(X_test, axis=1)"
   ]
  },
  {
   "cell_type": "code",
   "execution_count": 14,
   "metadata": {},
   "outputs": [
    {
     "name": "stdout",
     "output_type": "stream",
     "text": [
      "('X_train: ', (2420718, 113))\n",
      "('X_test: ', (806907, 113))\n",
      "('y_train: ', (2420718, 1))\n",
      "('y_test: ', (806907, 1))\n"
     ]
    }
   ],
   "source": [
    "print(\"X_train: \",X_train.shape)\n",
    "print(\"X_test: \",X_test.shape)\n",
    "print(\"y_train: \",y_train.shape)\n",
    "print(\"y_test: \",y_test.shape)"
   ]
  },
  {
   "cell_type": "code",
   "execution_count": 15,
   "metadata": {
    "scrolled": true
   },
   "outputs": [
    {
     "name": "stdout",
     "output_type": "stream",
     "text": [
      "Train on 2420718 samples, validate on 806907 samples\n",
      "Epoch 1/10\n",
      "2420718/2420718 [==============================] - 63s 26us/step - loss: 0.0429 - val_loss: 0.0380\n",
      "Epoch 2/10\n",
      "2420718/2420718 [==============================] - 62s 26us/step - loss: 0.0372 - val_loss: 0.0365\n",
      "Epoch 3/10\n",
      "2420718/2420718 [==============================] - 62s 26us/step - loss: 0.0361 - val_loss: 0.0358\n",
      "Epoch 4/10\n",
      "2420718/2420718 [==============================] - 63s 26us/step - loss: 0.0356 - val_loss: 0.0354\n",
      "Epoch 5/10\n",
      "2420718/2420718 [==============================] - 63s 26us/step - loss: 0.0353 - val_loss: 0.0352\n",
      "Epoch 6/10\n",
      "2420718/2420718 [==============================] - 63s 26us/step - loss: 0.0350 - val_loss: 0.0348\n",
      "Epoch 7/10\n",
      "2420718/2420718 [==============================] - 63s 26us/step - loss: 0.0347 - val_loss: 0.0346\n",
      "Epoch 8/10\n",
      "2420718/2420718 [==============================] - 62s 26us/step - loss: 0.0345 - val_loss: 0.0344\n",
      "Epoch 9/10\n",
      "2420718/2420718 [==============================] - 63s 26us/step - loss: 0.0343 - val_loss: 0.0343\n",
      "Epoch 10/10\n",
      "2420718/2420718 [==============================] - 63s 26us/step - loss: 0.0342 - val_loss: 0.0342\n"
     ]
    },
    {
     "data": {
      "text/plain": [
       "<keras.callbacks.History at 0x7f249c30ff10>"
      ]
     },
     "execution_count": 15,
     "metadata": {},
     "output_type": "execute_result"
    }
   ],
   "source": [
    "input_img = keras.models.Input(shape=(113,))\n",
    "encoded = keras.layers.Dense(128, activation= tf.nn.relu)(input_img)\n",
    "encoded = keras.layers.Dense(64, activation= tf.nn.relu)(encoded)\n",
    "encoded = keras.layers.Dense(32, activation= tf.nn.relu)(encoded)\n",
    "encoded = keras.layers.Dense(16, activation= tf.nn.relu)(encoded) #the latent layer \n",
    "decoded = keras.layers.Dense(64, activation= tf.nn.relu)(encoded)\n",
    "decoded = keras.layers.Dense(128, activation= tf.nn.relu)(decoded)\n",
    "decoded = keras.layers.Dense(113, activation= tf.nn.sigmoid)(decoded)\n",
    "\n",
    "encoder = keras.Model(input_img, encoded)\n",
    "autoencoder = keras.Model(input_img, decoded)\n",
    "autoencoder.compile(optimizer='adadelta', loss='binary_crossentropy')\n",
    "\n",
    "autoencoder.fit(X_train, X_train,\n",
    "                epochs=10,\n",
    "                batch_size=256,\n",
    "                shuffle=True,\n",
    "                validation_data=(X_test, X_test))"
   ]
  },
  {
   "cell_type": "code",
   "execution_count": 16,
   "metadata": {
    "collapsed": true
   },
   "outputs": [],
   "source": [
    "autoencoder.save('DarkMachine_autoencoder.model')\n",
    "encoder.save('DarkMachine_encoder.model')"
   ]
  },
  {
   "cell_type": "code",
   "execution_count": 17,
   "metadata": {},
   "outputs": [
    {
     "name": "stderr",
     "output_type": "stream",
     "text": [
      "/home/debo/env_autoencoder/local/lib/python2.7/site-packages/keras/engine/saving.py:292: UserWarning: No training configuration found in save file: the model was *not* compiled. Compile it manually.\n",
      "  warnings.warn('No training configuration found in save file: '\n"
     ]
    }
   ],
   "source": [
    "encoder_model = keras.models.load_model('DarkMachine_encoder.model')"
   ]
  },
  {
   "cell_type": "code",
   "execution_count": 21,
   "metadata": {
    "collapsed": true
   },
   "outputs": [],
   "source": [
    "enCoded_X_train = encoder_model.predict([X_train])\n",
    "enCoded_X_test = encoder_model.predict([X_test])"
   ]
  },
  {
   "cell_type": "code",
   "execution_count": 22,
   "metadata": {},
   "outputs": [
    {
     "data": {
      "text/plain": [
       "(2420718, 16)"
      ]
     },
     "execution_count": 22,
     "metadata": {},
     "output_type": "execute_result"
    }
   ],
   "source": [
    "enCoded_X_train.shape"
   ]
  },
  {
   "cell_type": "code",
   "execution_count": 28,
   "metadata": {},
   "outputs": [
    {
     "name": "stdout",
     "output_type": "stream",
     "text": [
      "Epoch 1/10\n",
      "2420718/2420718 [==============================] - 26s 11us/step - loss: 0.1599 - acc: 0.9382\n",
      "Epoch 2/10\n",
      "2420718/2420718 [==============================] - 25s 10us/step - loss: 0.1321 - acc: 0.9505\n",
      "Epoch 3/10\n",
      "2420718/2420718 [==============================] - 25s 10us/step - loss: 0.1220 - acc: 0.9549\n",
      "Epoch 4/10\n",
      "2420718/2420718 [==============================] - 25s 10us/step - loss: 0.1168 - acc: 0.9571\n",
      "Epoch 5/10\n",
      "2420718/2420718 [==============================] - 25s 10us/step - loss: 0.1135 - acc: 0.9585\n",
      "Epoch 6/10\n",
      "2420718/2420718 [==============================] - 25s 10us/step - loss: 0.1111 - acc: 0.9595\n",
      "Epoch 7/10\n",
      "2420718/2420718 [==============================] - 25s 10us/step - loss: 0.1094 - acc: 0.9602\n",
      "Epoch 8/10\n",
      "2420718/2420718 [==============================] - 25s 10us/step - loss: 0.1079 - acc: 0.9608\n",
      "Epoch 9/10\n",
      "2420718/2420718 [==============================] - 25s 10us/step - loss: 0.1068 - acc: 0.9613\n",
      "Epoch 10/10\n",
      "2420718/2420718 [==============================] - 25s 10us/step - loss: 0.1057 - acc: 0.9617\n"
     ]
    },
    {
     "data": {
      "text/plain": [
       "<keras.callbacks.History at 0x7f24adc5ba90>"
      ]
     },
     "execution_count": 28,
     "metadata": {},
     "output_type": "execute_result"
    }
   ],
   "source": [
    "seqModel = keras.models.Sequential()\n",
    "seqModel.add(keras.layers.Dense(128, input_dim=16, activation= tf.nn.relu))\n",
    "seqModel.add(keras.layers.Dense(64, activation= tf.nn.relu))\n",
    "seqModel.add(keras.layers.Dense(32, activation= tf.nn.relu))\n",
    "seqModel.add(keras.layers.Dense(16, activation= tf.nn.relu))\n",
    "seqModel.add(keras.layers.Dense(8, activation= tf.nn.relu))\n",
    "seqModel.add(keras.layers.Dense(1, activation= tf.nn.sigmoid))\n",
    "seqModel.compile(loss='binary_crossentropy', optimizer='adam', metrics= ['accuracy'])\n",
    "\n",
    "seqModel.fit(enCoded_X_train, y_train, batch_size=256, epochs=10)\n"
   ]
  },
  {
   "cell_type": "code",
   "execution_count": 29,
   "metadata": {},
   "outputs": [
    {
     "name": "stdout",
     "output_type": "stream",
     "text": [
      "806907/806907 [==============================] - 3s 4us/step\n"
     ]
    }
   ],
   "source": [
    "sig_predict = seqModel.predict(enCoded_X_test,batch_size=256, verbose=1)"
   ]
  },
  {
   "cell_type": "code",
   "execution_count": 30,
   "metadata": {},
   "outputs": [
    {
     "name": "stderr",
     "output_type": "stream",
     "text": [
      "/home/debo/env_autoencoder/local/lib/python2.7/site-packages/matplotlib/axes/_axes.py:6571: UserWarning: The 'normed' kwarg is deprecated, and has been replaced by the 'density' kwarg.\n",
      "  warnings.warn(\"The 'normed' kwarg is deprecated, and has been \"\n"
     ]
    },
    {
     "data": {
      "image/png": "[encoded data removed]",
      "text/plain": [
       "<Figure size 432x288 with 1 Axes>"
      ]
     },
     "metadata": {
      "needs_background": "light"
     },
     "output_type": "display_data"
    }
   ],
   "source": [
    "sigSoft= sig_predict[np.where(y_test==1)]\n",
    "bkgSoft = sig_predict[np.where(y_test==0)]\n",
    "_=plt.hist(sigSoft,bins=100, histtype='step', label='signal', normed = 1)\n",
    "                           \n",
    "_=plt.hist(bkgSoft,bins=100, histtype='step', color= 'red', label='background', normed = 1)\n",
    "\n",
    "_=plt.yscale('log')\n",
    "\n",
    "_=plt.legend(loc='upper center')\n",
    "\n",
    "_=plt.title('binary classification')"
   ]
  },
  {
   "cell_type": "code",
   "execution_count": 45,
   "metadata": {},
   "outputs": [
    {
     "name": "stderr",
     "output_type": "stream",
     "text": [
      "/home/debo/env_autoencoder/lib/python2.7/site-packages/ipykernel_launcher.py:4: RuntimeWarning: divide by zero encountered in divide\n",
      "  after removing the cwd from sys.path.\n"
     ]
    },
    {
     "data": {
      "image/png": "[encoded data removed]",
      "text/plain": [
       "<Figure size 432x288 with 1 Axes>"
      ]
     },
     "metadata": {
      "needs_background": "light"
     },
     "output_type": "display_data"
    }
   ],
   "source": [
    "fpr, tpr, thresholds = roc_curve(y_test,sig_predict)\n",
    "plt.figure()\n",
    "##plt.plot(fpr, tpr)\n",
    "plt.plot(tpr, 1/fpr)\n",
    "plt.xlim([0.5, 1])\n",
    "plt.ylim([1, 10000])\n",
    "plt.ylabel('1/Bkg_eff')\n",
    "plt.xlabel('Sig_eff')\n",
    "plt.title('Receiver operating characteristic')\n",
    "plt.yscale('log')\n",
    "plt.show()"
   ]
  }
 ],
 "metadata": {
  "kernelspec": {
   "display_name": "env_autoencoder",
   "language": "python",
   "name": "env_autoencoder"
  },
  "language_info": {
   "codemirror_mode": {
    "name": "ipython",
    "version": 2
   },
   "file_extension": ".py",
   "mimetype": "text/x-python",
   "name": "python",
   "nbconvert_exporter": "python",
   "pygments_lexer": "ipython2",
   "version": "2.7.12"
  }
 },
 "nbformat": 4,
 "nbformat_minor": 2
}
