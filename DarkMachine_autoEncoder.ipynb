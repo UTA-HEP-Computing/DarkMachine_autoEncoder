{
 "cells": [
  {
   "cell_type": "code",
   "execution_count": 8,
   "metadata": {},
   "outputs": [],
   "source": [
    "import tensorflow as tf\n",
    "import keras as keras\n",
    "import matplotlib.pyplot as plt\n",
    "import numpy as np\n",
    "import os\n",
    "import deepdish.io as io\n",
    "from sklearn.metrics import roc_curve, auc\n",
    "import random"
   ]
  },
  {
   "cell_type": "code",
   "execution_count": 9,
   "metadata": {},
   "outputs": [
    {
     "data": {
      "text/plain": [
       "'1.14.0'"
      ]
     },
     "execution_count": 9,
     "metadata": {},
     "output_type": "execute_result"
    }
   ],
   "source": [
    "tf.__version__"
   ]
  },
  {
   "cell_type": "code",
   "execution_count": 13,
   "metadata": {
    "collapsed": true
   },
   "outputs": [],
   "source": [
    "data_Mix_Train = io.load(os.path.join('/home/debo/forgit/DarkMachineTrain.h5'))\n",
    "data_Mix_Test = io.load(os.path.join('/home/debo/forgit/DarkMachineTest.h5'))\n",
    "data_bkg_Train = io.load(os.path.join('/home/debo/forgit/X_bkgTrain.h5'))\n",
    "data_bkg_Test = io.load(os.path.join('/home/debo/forgit/X_bkgTest.h5'))"
   ]
  },
  {
   "cell_type": "code",
   "execution_count": 14,
   "metadata": {
    "collapsed": true
   },
   "outputs": [],
   "source": [
    "X_Mix_train = data_Mix_Train['X']\n",
    "y_Mix_train = data_Mix_Train['y']\n",
    "X_Mix_test = data_Mix_Test['X']\n",
    "y_Mix_test = data_Mix_Test['y']\n",
    "\n",
    "X_bkg_train = data_bkg_Train['X']\n",
    "X_bkg_test = data_bkg_Test['X']\n",
    "\n",
    "X_Mix_train_N = keras.utils.normalize(X_Mix_train, axis=1)\n",
    "X_Mix_test_N = keras.utils.normalize(X_Mix_test, axis=1)\n",
    "\n",
    "X_bkg_train_N = keras.utils.normalize(X_bkg_train, axis=1)\n",
    "X_bkg_test_N = keras.utils.normalize(X_bkg_test, axis=1)"
   ]
  },
  {
   "cell_type": "code",
   "execution_count": 15,
   "metadata": {},
   "outputs": [
    {
     "name": "stdout",
     "output_type": "stream",
     "text": [
      "('X_Mix_train_N: ', (2420718, 113))\n",
      "('X_Mix_test_N: ', (806907, 113))\n",
      "('y_Mix_train_N: ', (2420718, 1))\n",
      "('y_Mix_test_N: ', (806907, 1))\n",
      "('X_bkg_train_N: ', (1739535, 113))\n",
      "('X_bkg_test_N: ', (434884, 113))\n"
     ]
    }
   ],
   "source": [
    "print(\"X_Mix_train_N: \",X_Mix_train_N.shape)\n",
    "print(\"X_Mix_test_N: \",X_Mix_test_N.shape)\n",
    "print(\"y_Mix_train_N: \",y_Mix_train.shape)\n",
    "print(\"y_Mix_test_N: \",y_Mix_test.shape)\n",
    "\n",
    "print(\"X_bkg_train_N: \",X_bkg_train_N.shape)\n",
    "print(\"X_bkg_test_N: \",X_bkg_test_N.shape)"
   ]
  },
  {
   "cell_type": "code",
   "execution_count": 30,
   "metadata": {
    "scrolled": true
   },
   "outputs": [
    {
     "name": "stdout",
     "output_type": "stream",
     "text": [
      "Train on 1739535 samples, validate on 434884 samples\n",
      "Epoch 1/20\n",
      "1739535/1739535 [==============================] - 45s 26us/step - loss: 0.0434 - val_loss: 0.0374\n",
      "Epoch 2/20\n",
      "1739535/1739535 [==============================] - 43s 25us/step - loss: 0.0364 - val_loss: 0.0360\n",
      "Epoch 3/20\n",
      "1739535/1739535 [==============================] - 44s 25us/step - loss: 0.0355 - val_loss: 0.0354\n",
      "Epoch 4/20\n",
      "1739535/1739535 [==============================] - 42s 24us/step - loss: 0.0347 - val_loss: 0.0344\n",
      "Epoch 5/20\n",
      "1739535/1739535 [==============================] - 44s 25us/step - loss: 0.0342 - val_loss: 0.0341\n",
      "Epoch 6/20\n",
      "1739535/1739535 [==============================] - 44s 25us/step - loss: 0.0338 - val_loss: 0.0337\n",
      "Epoch 7/20\n",
      "1739535/1739535 [==============================] - 43s 25us/step - loss: 0.0336 - val_loss: 0.0336\n",
      "Epoch 8/20\n",
      "1739535/1739535 [==============================] - 43s 25us/step - loss: 0.0334 - val_loss: 0.0333\n",
      "Epoch 9/20\n",
      "1739535/1739535 [==============================] - 42s 24us/step - loss: 0.0333 - val_loss: 0.0333\n",
      "Epoch 10/20\n",
      "1739535/1739535 [==============================] - 43s 25us/step - loss: 0.0333 - val_loss: 0.0332\n",
      "Epoch 11/20\n",
      "1739535/1739535 [==============================] - 43s 25us/step - loss: 0.0332 - val_loss: 0.0332\n",
      "Epoch 12/20\n",
      "1739535/1739535 [==============================] - 44s 25us/step - loss: 0.0332 - val_loss: 0.0332\n",
      "Epoch 13/20\n",
      "1739535/1739535 [==============================] - 44s 25us/step - loss: 0.0331 - val_loss: 0.0332\n",
      "Epoch 14/20\n",
      "1739535/1739535 [==============================] - 45s 26us/step - loss: 0.0331 - val_loss: 0.0331\n",
      "Epoch 15/20\n",
      "1739535/1739535 [==============================] - 44s 26us/step - loss: 0.0331 - val_loss: 0.0331\n",
      "Epoch 16/20\n",
      "1739535/1739535 [==============================] - 44s 25us/step - loss: 0.0331 - val_loss: 0.0331\n",
      "Epoch 17/20\n",
      "1739535/1739535 [==============================] - 44s 26us/step - loss: 0.0330 - val_loss: 0.0331\n",
      "Epoch 18/20\n",
      "1739535/1739535 [==============================] - 44s 25us/step - loss: 0.0330 - val_loss: 0.0331\n",
      "Epoch 19/20\n",
      "1739535/1739535 [==============================] - 44s 25us/step - loss: 0.0330 - val_loss: 0.0331\n",
      "Epoch 20/20\n",
      "1739535/1739535 [==============================] - 45s 26us/step - loss: 0.0330 - val_loss: 0.0330\n"
     ]
    },
    {
     "data": {
      "text/plain": [
       "<keras.callbacks.History at 0x7f97436e5a10>"
      ]
     },
     "execution_count": 30,
     "metadata": {},
     "output_type": "execute_result"
    }
   ],
   "source": [
    "input_img = keras.models.Input(shape=(113,))\n",
    "encoded = keras.layers.Dense(128, activation= tf.nn.relu)(input_img)\n",
    "encoded = keras.layers.Dense(64, activation= tf.nn.relu)(encoded)\n",
    "encoded = keras.layers.Dense(32, activation= tf.nn.relu)(encoded)\n",
    "encoded = keras.layers.Dense(16, activation= tf.nn.relu)(encoded) #the latent layer \n",
    "decoded = keras.layers.Dense(64, activation= tf.nn.relu)(encoded)\n",
    "decoded = keras.layers.Dense(128, activation= tf.nn.relu)(decoded)\n",
    "decoded = keras.layers.Dense(113, activation= tf.nn.sigmoid)(decoded)\n",
    "\n",
    "encoder = keras.Model(input_img, encoded)\n",
    "autoencoder = keras.Model(input_img, decoded)\n",
    "autoencoder.compile(optimizer='adadelta', loss='binary_crossentropy')\n",
    "\n",
    "autoencoder.fit(X_bkg_train_N, X_bkg_train_N,\n",
    "                epochs=20,\n",
    "                batch_size=256,\n",
    "                shuffle=True,\n",
    "                validation_data=(X_bkg_test_N, X_bkg_test_N))"
   ]
  },
  {
   "cell_type": "code",
   "execution_count": 31,
   "metadata": {
    "collapsed": true
   },
   "outputs": [],
   "source": [
    "autoencoder.save('DarkMachine_autoencoder.model')\n",
    "encoder.save('DarkMachine_encoder.model')"
   ]
  },
  {
   "cell_type": "code",
   "execution_count": 32,
   "metadata": {},
   "outputs": [],
   "source": [
    "encoder_model = keras.models.load_model('DarkMachine_encoder.model')"
   ]
  },
  {
   "cell_type": "code",
   "execution_count": 33,
   "metadata": {
    "collapsed": true
   },
   "outputs": [],
   "source": [
    "enCoded_X_Mix_train_N = encoder_model.predict([X_Mix_train_N])\n",
    "enCoded_X_Mix_test_N = encoder_model.predict([X_Mix_test_N])"
   ]
  },
  {
   "cell_type": "code",
   "execution_count": 34,
   "metadata": {},
   "outputs": [
    {
     "data": {
      "text/plain": [
       "(2420718, 16)"
      ]
     },
     "execution_count": 34,
     "metadata": {},
     "output_type": "execute_result"
    }
   ],
   "source": [
    "enCoded_X_Mix_train_N.shape"
   ]
  },
  {
   "cell_type": "code",
   "execution_count": 36,
   "metadata": {},
   "outputs": [
    {
     "name": "stdout",
     "output_type": "stream",
     "text": [
      "Epoch 1/20\n",
      "2420718/2420718 [==============================] - 26s 11us/step - loss: 0.2071 - acc: 0.9170\n",
      "Epoch 2/20\n",
      "2420718/2420718 [==============================] - 25s 10us/step - loss: 0.1656 - acc: 0.9362\n",
      "Epoch 3/20\n",
      "2420718/2420718 [==============================] - 25s 10us/step - loss: 0.1512 - acc: 0.9426\n",
      "Epoch 4/20\n",
      "2420718/2420718 [==============================] - 25s 10us/step - loss: 0.1420 - acc: 0.9466\n",
      "Epoch 5/20\n",
      "2420718/2420718 [==============================] - 25s 10us/step - loss: 0.1352 - acc: 0.9496\n",
      "Epoch 6/20\n",
      "2420718/2420718 [==============================] - 25s 10us/step - loss: 0.1289 - acc: 0.9524\n",
      "Epoch 7/20\n",
      "2420718/2420718 [==============================] - 25s 10us/step - loss: 0.1236 - acc: 0.9549\n",
      "Epoch 8/20\n",
      "2420718/2420718 [==============================] - 25s 10us/step - loss: 0.1204 - acc: 0.9562\n",
      "Epoch 9/20\n",
      "2420718/2420718 [==============================] - 25s 10us/step - loss: 0.1184 - acc: 0.9570\n",
      "Epoch 10/20\n",
      "2420718/2420718 [==============================] - 25s 10us/step - loss: 0.1166 - acc: 0.9578\n",
      "Epoch 11/20\n",
      "2420718/2420718 [==============================] - 25s 10us/step - loss: 0.1151 - acc: 0.9583\n",
      "Epoch 12/20\n",
      "2420718/2420718 [==============================] - 25s 10us/step - loss: 0.1139 - acc: 0.9587\n",
      "Epoch 13/20\n",
      "2420718/2420718 [==============================] - 25s 10us/step - loss: 0.1130 - acc: 0.9591\n",
      "Epoch 14/20\n",
      "2420718/2420718 [==============================] - 25s 10us/step - loss: 0.1121 - acc: 0.9595\n",
      "Epoch 15/20\n",
      "2420718/2420718 [==============================] - 25s 10us/step - loss: 0.1111 - acc: 0.9598\n",
      "Epoch 16/20\n",
      "2420718/2420718 [==============================] - 25s 10us/step - loss: 0.1104 - acc: 0.9601\n",
      "Epoch 17/20\n",
      "2420718/2420718 [==============================] - 25s 10us/step - loss: 0.1096 - acc: 0.9606\n",
      "Epoch 18/20\n",
      "2420718/2420718 [==============================] - 25s 10us/step - loss: 0.1088 - acc: 0.9608\n",
      "Epoch 19/20\n",
      "2420718/2420718 [==============================] - 25s 10us/step - loss: 0.1085 - acc: 0.9610\n",
      "Epoch 20/20\n",
      "2420718/2420718 [==============================] - 25s 10us/step - loss: 0.1077 - acc: 0.9613\n"
     ]
    },
    {
     "data": {
      "text/plain": [
       "<keras.callbacks.History at 0x7f970025e150>"
      ]
     },
     "execution_count": 36,
     "metadata": {},
     "output_type": "execute_result"
    }
   ],
   "source": [
    "seqModel = keras.models.Sequential()\n",
    "seqModel.add(keras.layers.Dense(128, input_dim=16, activation= tf.nn.relu))\n",
    "seqModel.add(keras.layers.Dense(64, activation= tf.nn.relu))\n",
    "seqModel.add(keras.layers.Dense(32, activation= tf.nn.relu))\n",
    "seqModel.add(keras.layers.Dense(16, activation= tf.nn.relu))\n",
    "seqModel.add(keras.layers.Dense(8, activation= tf.nn.relu))\n",
    "seqModel.add(keras.layers.Dense(1, activation= tf.nn.sigmoid))\n",
    "seqModel.compile(loss='binary_crossentropy', optimizer='adam', metrics= ['accuracy'])\n",
    "\n",
    "seqModel.fit(enCoded_X_Mix_train_N, y_Mix_train, batch_size=256, epochs=20)\n"
   ]
  },
  {
   "cell_type": "code",
   "execution_count": 37,
   "metadata": {},
   "outputs": [
    {
     "name": "stdout",
     "output_type": "stream",
     "text": [
      "806907/806907 [==============================] - 3s 4us/step\n"
     ]
    }
   ],
   "source": [
    "sig_predict = seqModel.predict(enCoded_X_Mix_test_N,batch_size=256, verbose=1)"
   ]
  },
  {
   "cell_type": "code",
   "execution_count": 38,
   "metadata": {},
   "outputs": [
    {
     "data": {
      "image/png": "[encoded data removed]",
      "text/plain": [
       "<Figure size 432x288 with 1 Axes>"
      ]
     },
     "metadata": {
      "needs_background": "light"
     },
     "output_type": "display_data"
    }
   ],
   "source": [
    "sigSoft= sig_predict[np.where(y_Mix_test==1)]\n",
    "bkgSoft = sig_predict[np.where(y_Mix_test==0)]\n",
    "_=plt.hist(sigSoft,bins=100, histtype='step', label='signal', normed = 1)\n",
    "                           \n",
    "_=plt.hist(bkgSoft,bins=100, histtype='step', color= 'red', label='background', normed = 1)\n",
    "\n",
    "_=plt.yscale('log')\n",
    "\n",
    "_=plt.legend(loc='upper center')\n",
    "\n",
    "_=plt.title('binary classification')"
   ]
  },
  {
   "cell_type": "code",
   "execution_count": 46,
   "metadata": {
    "scrolled": true
   },
   "outputs": [
    {
     "name": "stderr",
     "output_type": "stream",
     "text": [
      "/home/debo/env_autoencoder/lib/python2.7/site-packages/ipykernel_launcher.py:4: RuntimeWarning: divide by zero encountered in divide\n",
      "  after removing the cwd from sys.path.\n"
     ]
    },
    {
     "data": {
      "image/png": "[encoded data removed]",
      "text/plain": [
       "<Figure size 432x288 with 1 Axes>"
      ]
     },
     "metadata": {
      "needs_background": "light"
     },
     "output_type": "display_data"
    }
   ],
   "source": [
    "fpr, tpr, thresholds = roc_curve(y_Mix_test,sig_predict)\n",
    "plt.figure()\n",
    "##plt.plot(fpr, tpr)\n",
    "plt.plot(tpr, 1/fpr)\n",
    "plt.xlim([0.6, 1])\n",
    "plt.ylim([1, 10000])\n",
    "plt.ylabel('1/Bkg_eff')\n",
    "plt.xlabel('Sig_eff')\n",
    "plt.title('Receiver operating characteristic')\n",
    "plt.yscale('log')\n",
    "plt.show()"
   ]
  },
  {
   "cell_type": "code",
   "execution_count": 49,
   "metadata": {},
   "outputs": [
    {
     "name": "stdout",
     "output_type": "stream",
     "text": [
      "roc_auc = 0.9908453656406427\n"
     ]
    }
   ],
   "source": [
    "print \"roc_auc =\", auc(fpr, tpr)"
   ]
  },
  {
   "cell_type": "code",
   "execution_count": null,
   "metadata": {
    "collapsed": true
   },
   "outputs": [],
   "source": []
  }
 ],
 "metadata": {
  "kernelspec": {
   "display_name": "env_autoencoder",
   "language": "python",
   "name": "env_autoencoder"
  },
  "language_info": {
   "codemirror_mode": {
    "name": "ipython",
    "version": 2
   },
   "file_extension": ".py",
   "mimetype": "text/x-python",
   "name": "python",
   "nbconvert_exporter": "python",
   "pygments_lexer": "ipython2",
   "version": "2.7.12"
  }
 },
 "nbformat": 4,
 "nbformat_minor": 2
}
