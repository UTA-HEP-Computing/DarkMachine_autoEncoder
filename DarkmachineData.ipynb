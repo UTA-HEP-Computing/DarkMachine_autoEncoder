{
 "cells": [
  {
   "cell_type": "code",
   "execution_count": 1,
   "metadata": {
    "collapsed": true
   },
   "outputs": [],
   "source": [
    "import pandas as pd\n",
    "import numpy as np"
   ]
  },
  {
   "cell_type": "code",
   "execution_count": 2,
   "metadata": {
    "collapsed": true
   },
   "outputs": [],
   "source": [
    "# ttbar is standard model (SM) event we will treat as background (bkg) we are interested to find beyond SM (BSM) e.g. gluino\n",
    "# therefore we will treat gluino involved events as bkg\n",
    "data_bkg = pd.read_csv('/home/debo/UTILITIES/ttbar_out.txt', header=None, skiprows=2)\n",
    "data_sig = pd.read_csv('/home/debo/UTILITIES/gluino_out.txt', header=None, skiprows=2)"
   ]
  },
  {
   "cell_type": "code",
   "execution_count": 3,
   "metadata": {},
   "outputs": [
    {
     "name": "stdout",
     "output_type": "stream",
     "text": [
      "('data_bkg: ', (2174419, 95))\n",
      "('data_sig: ', (1053206, 113))\n"
     ]
    }
   ],
   "source": [
    "print(\"data_bkg: \",data_bkg.shape)\n",
    "print(\"data_sig: \",data_sig.shape)"
   ]
  },
  {
   "cell_type": "code",
   "execution_count": 4,
   "metadata": {
    "collapsed": true
   },
   "outputs": [],
   "source": [
    "data_bkg = data_bkg.values\n",
    "data_sig = data_sig.values"
   ]
  },
  {
   "cell_type": "code",
   "execution_count": 5,
   "metadata": {},
   "outputs": [
    {
     "name": "stdout",
     "output_type": "stream",
     "text": [
      "('data_bkg: ', (2174419, 95))\n",
      "('data_sig: ', (1053206, 113))\n"
     ]
    }
   ],
   "source": [
    "# signal and bkg have different feature size so we will zero pad them to have same feature size\n",
    "print(\"data_bkg: \",data_bkg.shape)\n",
    "print(\"data_sig: \",data_sig.shape)"
   ]
  },
  {
   "cell_type": "code",
   "execution_count": 6,
   "metadata": {
    "collapsed": true
   },
   "outputs": [],
   "source": [
    "data_bkg_pad = np.zeros((2174419,18))"
   ]
  },
  {
   "cell_type": "code",
   "execution_count": 7,
   "metadata": {
    "collapsed": true
   },
   "outputs": [],
   "source": [
    "data_bkg_padded = np.concatenate((data_bkg, data_bkg_pad),1)\n"
   ]
  },
  {
   "cell_type": "code",
   "execution_count": 8,
   "metadata": {},
   "outputs": [
    {
     "data": {
      "text/plain": [
       "(2174419, 113)"
      ]
     },
     "execution_count": 8,
     "metadata": {},
     "output_type": "execute_result"
    }
   ],
   "source": [
    "data_bkg_padded.shape"
   ]
  },
  {
   "cell_type": "code",
   "execution_count": 9,
   "metadata": {},
   "outputs": [
    {
     "data": {
      "text/plain": [
       "array([ 2.63127e+04, -2.24806e+00,  6.34814e+04,  6.89961e-01,\n",
       "        1.45730e+00,  5.49048e+04, -7.20720e-01, -2.71409e+00,\n",
       "        2.81850e+04,  1.89810e+00,  2.62792e+00,  0.00000e+00,\n",
       "        0.00000e+00,  0.00000e+00,  0.00000e+00,  0.00000e+00,\n",
       "        0.00000e+00,  0.00000e+00,  0.00000e+00,  0.00000e+00,\n",
       "        0.00000e+00,  0.00000e+00,  0.00000e+00,  0.00000e+00,\n",
       "        0.00000e+00,  0.00000e+00,  0.00000e+00,  0.00000e+00,\n",
       "        0.00000e+00,  0.00000e+00,  0.00000e+00,  0.00000e+00,\n",
       "        0.00000e+00,  0.00000e+00,  0.00000e+00,  0.00000e+00,\n",
       "        0.00000e+00,  0.00000e+00,  0.00000e+00,  0.00000e+00,\n",
       "        0.00000e+00,  0.00000e+00,  0.00000e+00,  0.00000e+00,\n",
       "        0.00000e+00,  0.00000e+00,  0.00000e+00,  0.00000e+00,\n",
       "        0.00000e+00,  0.00000e+00,  0.00000e+00,  0.00000e+00,\n",
       "        0.00000e+00,  8.84342e+04,  2.04707e+00, -5.21237e-01,\n",
       "        3.96456e+04,  1.99887e+00, -1.93787e+00,  0.00000e+00,\n",
       "        0.00000e+00,  0.00000e+00,  0.00000e+00,  0.00000e+00,\n",
       "        0.00000e+00,  0.00000e+00,  0.00000e+00,  0.00000e+00,\n",
       "        0.00000e+00,  0.00000e+00,  0.00000e+00,  0.00000e+00,\n",
       "        0.00000e+00,  0.00000e+00,  0.00000e+00,  0.00000e+00,\n",
       "        0.00000e+00,  4.83056e+04,  1.22764e+00,  9.19544e-01,\n",
       "        0.00000e+00,  0.00000e+00,  0.00000e+00,  0.00000e+00,\n",
       "        0.00000e+00,  0.00000e+00,  0.00000e+00,  0.00000e+00,\n",
       "        0.00000e+00,  0.00000e+00,  0.00000e+00,  0.00000e+00,\n",
       "        0.00000e+00,  0.00000e+00,  0.00000e+00,  0.00000e+00,\n",
       "        0.00000e+00,  0.00000e+00,  0.00000e+00,  0.00000e+00,\n",
       "        0.00000e+00,  0.00000e+00,  0.00000e+00,  0.00000e+00,\n",
       "        0.00000e+00,  0.00000e+00,  0.00000e+00,  0.00000e+00,\n",
       "        0.00000e+00,  0.00000e+00,  0.00000e+00,  0.00000e+00,\n",
       "        0.00000e+00])"
      ]
     },
     "execution_count": 9,
     "metadata": {},
     "output_type": "execute_result"
    }
   ],
   "source": [
    "data_bkg_padded[0,:]"
   ]
  },
  {
   "cell_type": "code",
   "execution_count": 10,
   "metadata": {
    "collapsed": true
   },
   "outputs": [],
   "source": [
    "# building truth for our dataset signal corresponds to 1 and bkg to 0\n",
    "truth = np.array(([1] * data_sig.shape[0]) + ([0] * data_bkg_padded.shape[0]))"
   ]
  },
  {
   "cell_type": "code",
   "execution_count": 11,
   "metadata": {},
   "outputs": [
    {
     "data": {
      "text/plain": [
       "(3227625,)"
      ]
     },
     "execution_count": 11,
     "metadata": {},
     "output_type": "execute_result"
    }
   ],
   "source": [
    "truth.shape"
   ]
  },
  {
   "cell_type": "code",
   "execution_count": 12,
   "metadata": {},
   "outputs": [
    {
     "data": {
      "text/plain": [
       "2174419"
      ]
     },
     "execution_count": 12,
     "metadata": {},
     "output_type": "execute_result"
    }
   ],
   "source": [
    "truth_r = truth.reshape(3227625,1)\n",
    "l = np.zeros((3227625,1))\n",
    "n = l[np.where(truth==0)]\n",
    "n.size"
   ]
  },
  {
   "cell_type": "code",
   "execution_count": 13,
   "metadata": {
    "collapsed": true
   },
   "outputs": [],
   "source": [
    "total_bk_sig = np.concatenate((data_sig, data_bkg_padded),0)"
   ]
  },
  {
   "cell_type": "code",
   "execution_count": 14,
   "metadata": {},
   "outputs": [
    {
     "data": {
      "text/plain": [
       "(3227625, 113)"
      ]
     },
     "execution_count": 14,
     "metadata": {},
     "output_type": "execute_result"
    }
   ],
   "source": [
    "total_bk_sig.shape"
   ]
  },
  {
   "cell_type": "code",
   "execution_count": 15,
   "metadata": {
    "collapsed": true
   },
   "outputs": [],
   "source": [
    "data_truth = np.concatenate((total_bk_sig, truth_r),1)"
   ]
  },
  {
   "cell_type": "code",
   "execution_count": 16,
   "metadata": {},
   "outputs": [
    {
     "data": {
      "text/plain": [
       "(3227625, 114)"
      ]
     },
     "execution_count": 16,
     "metadata": {},
     "output_type": "execute_result"
    }
   ],
   "source": [
    "data_truth.shape"
   ]
  },
  {
   "cell_type": "code",
   "execution_count": 17,
   "metadata": {
    "collapsed": true
   },
   "outputs": [],
   "source": [
    "np.random.shuffle(data_truth)"
   ]
  },
  {
   "cell_type": "code",
   "execution_count": 18,
   "metadata": {},
   "outputs": [
    {
     "data": {
      "text/plain": [
       "(3227625, 114)"
      ]
     },
     "execution_count": 18,
     "metadata": {},
     "output_type": "execute_result"
    }
   ],
   "source": [
    "data_truth.shape"
   ]
  },
  {
   "cell_type": "code",
   "execution_count": 19,
   "metadata": {
    "collapsed": true
   },
   "outputs": [],
   "source": [
    "data_f = data_truth[:,0:113]\n",
    "truth_f= data_truth[:,113:114]"
   ]
  },
  {
   "cell_type": "code",
   "execution_count": 20,
   "metadata": {},
   "outputs": [
    {
     "data": {
      "text/plain": [
       "(3227625, 113)"
      ]
     },
     "execution_count": 20,
     "metadata": {},
     "output_type": "execute_result"
    }
   ],
   "source": [
    "data_f.shape"
   ]
  },
  {
   "cell_type": "code",
   "execution_count": 118,
   "metadata": {
    "collapsed": true
   },
   "outputs": [],
   "source": [
    "l = np.zeros((3227625, 1))"
   ]
  },
  {
   "cell_type": "code",
   "execution_count": 121,
   "metadata": {
    "collapsed": true
   },
   "outputs": [],
   "source": [
    "n = l[np.where(truth_f==0)]"
   ]
  },
  {
   "cell_type": "code",
   "execution_count": 21,
   "metadata": {
    "collapsed": true
   },
   "outputs": [],
   "source": [
    "from sklearn.model_selection import cross_val_score, cross_val_predict, train_test_split\n",
    "from sklearn.model_selection import KFold\n",
    "import h5py"
   ]
  },
  {
   "cell_type": "code",
   "execution_count": 22,
   "metadata": {
    "collapsed": true
   },
   "outputs": [],
   "source": [
    "X_train, X_test, y_train, y_test = train_test_split(data_f, truth_f, train_size=0.75)"
   ]
  },
  {
   "cell_type": "code",
   "execution_count": 23,
   "metadata": {},
   "outputs": [
    {
     "name": "stdout",
     "output_type": "stream",
     "text": [
      "('y_train: ', (2420718, 1))\n",
      "('y_test: ', (806907, 1))\n"
     ]
    }
   ],
   "source": [
    "print(\"y_train: \",y_train.shape)\n",
    "print(\"y_test: \",y_test.shape)"
   ]
  },
  {
   "cell_type": "code",
   "execution_count": 128,
   "metadata": {},
   "outputs": [
    {
     "data": {
      "text/plain": [
       "544241"
      ]
     },
     "execution_count": 128,
     "metadata": {},
     "output_type": "execute_result"
    }
   ],
   "source": [
    "l = np.zeros((806907,1))\n",
    "n = l[np.where(y_test==0)]\n",
    "n.size"
   ]
  },
  {
   "cell_type": "code",
   "execution_count": 129,
   "metadata": {},
   "outputs": [
    {
     "data": {
      "text/plain": [
       "2174419"
      ]
     },
     "execution_count": 129,
     "metadata": {},
     "output_type": "execute_result"
    }
   ],
   "source": [
    "1630178+544241"
   ]
  },
  {
   "cell_type": "code",
   "execution_count": 24,
   "metadata": {
    "collapsed": true
   },
   "outputs": [],
   "source": [
    "Train_ = {\n",
    "        'X' : X_train,\n",
    "        'y' : y_train,\n",
    "    }\n",
    "Test_ = {\n",
    "        'X' : X_test,\n",
    "        'y' : y_test,\n",
    "    }"
   ]
  },
  {
   "cell_type": "code",
   "execution_count": 25,
   "metadata": {
    "collapsed": true
   },
   "outputs": [],
   "source": [
    "import os"
   ]
  },
  {
   "cell_type": "code",
   "execution_count": 26,
   "metadata": {
    "collapsed": true
   },
   "outputs": [],
   "source": [
    "SAMPLE_PATH = os.path.join('/home/debo/forgit')"
   ]
  },
  {
   "cell_type": "code",
   "execution_count": 27,
   "metadata": {
    "collapsed": true
   },
   "outputs": [],
   "source": [
    "import deepdish.io as io"
   ]
  },
  {
   "cell_type": "code",
   "execution_count": 28,
   "metadata": {
    "collapsed": true
   },
   "outputs": [],
   "source": [
    "# Saving train-test data (X:signal+bkg and y:truth)\n",
    "io.save(os.path.join(SAMPLE_PATH, 'DarkMachine' + 'Train' + '.h5'), Train_)"
   ]
  },
  {
   "cell_type": "code",
   "execution_count": 29,
   "metadata": {
    "collapsed": true
   },
   "outputs": [],
   "source": [
    "io.save(os.path.join(SAMPLE_PATH, 'DarkMachine' + 'Test' + '.h5'), Test_)"
   ]
  },
  {
   "cell_type": "code",
   "execution_count": 41,
   "metadata": {
    "collapsed": true
   },
   "outputs": [],
   "source": [
    "X_0_train, X_0_test = train_test_split(data_bkg_padded, train_size=0.80)"
   ]
  },
  {
   "cell_type": "code",
   "execution_count": 42,
   "metadata": {
    "collapsed": true
   },
   "outputs": [],
   "source": [
    "Train_X0 = {\n",
    "        'X' : X_0_train,\n",
    "    }\n",
    "Test_X0 = {\n",
    "        'X' : X_0_test,\n",
    "    }"
   ]
  },
  {
   "cell_type": "code",
   "execution_count": 43,
   "metadata": {
    "collapsed": true
   },
   "outputs": [],
   "source": [
    "# Saving bkg data (X: bkg only) to train auto-encoder\n",
    "io.save(os.path.join(SAMPLE_PATH, 'X_bkg' + 'Train' + '.h5'), Train_X0)"
   ]
  },
  {
   "cell_type": "code",
   "execution_count": 44,
   "metadata": {
    "collapsed": true
   },
   "outputs": [],
   "source": [
    "io.save(os.path.join(SAMPLE_PATH, 'X_bkg' + 'Test' + '.h5'), Test_X0)"
   ]
  },
  {
   "cell_type": "code",
   "execution_count": null,
   "metadata": {
    "collapsed": true
   },
   "outputs": [],
   "source": []
  }
 ],
 "metadata": {
  "kernelspec": {
   "display_name": "env2",
   "language": "python",
   "name": "env2"
  },
  "language_info": {
   "codemirror_mode": {
    "name": "ipython",
    "version": 2
   },
   "file_extension": ".py",
   "mimetype": "text/x-python",
   "name": "python",
   "nbconvert_exporter": "python",
   "pygments_lexer": "ipython2",
   "version": "2.7.12"
  }
 },
 "nbformat": 4,
 "nbformat_minor": 2
}
